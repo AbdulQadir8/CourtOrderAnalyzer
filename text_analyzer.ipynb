{
  "nbformat": 4,
  "nbformat_minor": 0,
  "metadata": {
    "colab": {
      "provenance": [],
      "authorship_tag": "ABX9TyO3bj3r7HREI8UbnOTGVU8X",
      "include_colab_link": true
    },
    "kernelspec": {
      "name": "python3",
      "display_name": "Python 3"
    },
    "language_info": {
      "name": "python"
    }
  },
  "cells": [
    {
      "cell_type": "markdown",
      "metadata": {
        "id": "view-in-github",
        "colab_type": "text"
      },
      "source": [
        "<a href=\"https://colab.research.google.com/github/AbdulQadir8/CourtOrderAnalyzer/blob/master/text_analyzer.ipynb\" target=\"_parent\"><img src=\"https://colab.research.google.com/assets/colab-badge.svg\" alt=\"Open In Colab\"/></a>"
      ]
    },
    {
      "cell_type": "markdown",
      "source": [
        "# Court Order Document Analyzer"
      ],
      "metadata": {
        "id": "yp25d0PZTy9d"
      }
    },
    {
      "cell_type": "markdown",
      "source": [
        "# Court Order Text Analyzer with LangGraph  \n",
        "\n",
        "In this tutorial, we'll showcase the capabilities of **LangGraph** by building a multi-step court order text analysis pipeline. This pipeline will help transform complex court orders into accessible information through three key stages:\n",
        "\n",
        "### 1. Text Classification  \n",
        "We'll categorize the court order into predefined categories such as **Civil**, **Criminal**, **Family Law**, or **Administrative** cases. This step helps in quickly understanding the context of the order.\n",
        "\n",
        "### 2. Entity Extraction  \n",
        "We'll identify and extract key legal entities from the court order, including:  \n",
        "- **Parties involved** (e.g., plaintiff, defendant)  \n",
        "- **Case numbers**  \n",
        "- **Dates**  \n",
        "- **Key legal terms**  \n",
        "\n",
        "This ensures essential information is highlighted for easy reference.\n",
        "\n",
        "### 3. Text Summarization  \n",
        "Finally, we'll generate a concise, plain-language summary of the court order. This will distill the core points, making complex legal language understandable for non-experts.\n",
        "\n",
        "---\n",
        "\n",
        "This pipeline demonstrates how **LangGraph** can be used to build a modular, extensible workflow for processing legal documents. By the end of this tutorial, you'll understand how to construct a graph-based application that can be expanded or customized for various legal text analysis tasks, improving accessibility and comprehension.\n"
      ],
      "metadata": {
        "id": "qXxaRD2cUbNW"
      }
    },
    {
      "cell_type": "markdown",
      "source": [
        "# Installations"
      ],
      "metadata": {
        "id": "yNPYXou-bxxd"
      }
    },
    {
      "cell_type": "code",
      "source": [
        "%%capture --no-stderr\n",
        "%pip install -U langchain_google_genai langgraph load_dotenv"
      ],
      "metadata": {
        "id": "JHMs7EQJb2VJ"
      },
      "execution_count": 1,
      "outputs": []
    },
    {
      "cell_type": "markdown",
      "source": [
        "# Import Required Libraries\n",
        "This cell imports all the necessary modules"
      ],
      "metadata": {
        "id": "ZDr8TAzxbUCi"
      }
    },
    {
      "cell_type": "code",
      "source": [
        "import os\n",
        "from typing import TypedDict, List\n",
        "from langgraph.graph import StateGraph, END\n",
        "from langchain.prompts import PromptTemplate\n",
        "from langchain_core.messages import HumanMessage\n",
        "from langchain_core.runnables.graph import MermaidDrawMethod\n",
        "from IPython.display import display, Image\n",
        "from langgraph.graph.state import CompiledStateGraph\n",
        "from langchain_google_genai import ChatGoogleGenerativeAI\n",
        "\n",
        "\n",
        "from dotenv import load_dotenv"
      ],
      "metadata": {
        "id": "zrFI427ZbW_r"
      },
      "execution_count": 2,
      "outputs": []
    },
    {
      "cell_type": "markdown",
      "source": [
        "# Set Up API Keys"
      ],
      "metadata": {
        "id": "GnReieqdd3Yt"
      }
    },
    {
      "cell_type": "code",
      "source": [
        "from google.colab import userdata\n",
        "GEMINI_API_KEY = userdata.get('GEMINI_API_KEY')"
      ],
      "metadata": {
        "id": "E6TL9aprffYI"
      },
      "execution_count": 3,
      "outputs": []
    },
    {
      "cell_type": "code",
      "source": [
        "import os\n",
        "os.environ[\"LANGCHAIN_API_KEY\"] = userdata.get('LANGCHAIN_API_KEY')\n",
        "os.environ[\"LANGCHAIN_TRACING_V2\"] = \"true\"\n",
        "os.environ[\"LANGCHAIN_PROJECT\"] = \"langchain-academy\""
      ],
      "metadata": {
        "id": "sV_8luQTd23r"
      },
      "execution_count": 4,
      "outputs": []
    },
    {
      "cell_type": "markdown",
      "source": [
        "#Building the Text Processing Pipeline\n",
        "#Define State and Initialize LLM\n",
        "Here we define the State class to hold our workflow data and initialize the ChatGoogleGenerativeAI model."
      ],
      "metadata": {
        "id": "arpfResW1X-q"
      }
    },
    {
      "cell_type": "code",
      "source": [
        "class State(TypedDict):\n",
        "    text: str\n",
        "    classification: str\n",
        "    entities: List[str]\n",
        "    summary: str\n",
        "\n",
        "llm: ChatGoogleGenerativeAI = ChatGoogleGenerativeAI(model= \"gemini-1.5-flash\", api_key=GEMINI_API_KEY)"
      ],
      "metadata": {
        "id": "8K_E4_pNelSI"
      },
      "execution_count": 5,
      "outputs": []
    },
    {
      "cell_type": "markdown",
      "source": [
        "# Define Node Functions\n",
        "These functions define the operations performed at each node of our graph: classification, entity extraction, and summarization."
      ],
      "metadata": {
        "id": "DQw2zkRJ3x94"
      }
    },
    {
      "cell_type": "code",
      "source": [
        "def classification_node(state: State):\n",
        "  ''' Classify the text into one of the categories: Civil, Criminal, Family Law, Administrative or Other '''\n",
        "  prompt = PromptTemplate(\n",
        "      input_variables=[\"text\"],\n",
        "      template=\"Classify the following text into one of the categories: Civil, Criminal, Family Law, Administrative or Other.\\n\\nText:{text}\\n\\nCategory:\"\n",
        "  )\n",
        "  message = HumanMessage(content=prompt.format(text=state[\"text\"]))\n",
        "  classification = llm.invoke([message]).content.strip()\n",
        "  return {\"classification\": classification}\n",
        "\n",
        "def entity_extraction_node(state: State):\n",
        "  '''Extract all the entities (Parties Involved, Legal Terms,  Legal Procedure, Legal Outcomes and Case Information) from the following text '''\n",
        "  prompt = PromptTemplate(\n",
        "      input_variables=[\"text\"],\n",
        "      template=\"Extract all the entities (Parties Involved, Legal Terms,  Legal Procedure, Legal Outcomes and Case Information) from the following text. Provide the result as a comma-seprated list.\\n\\nText:{text}\\n\\nEntities:\"\n",
        "  )\n",
        "  message = HumanMessage(content=prompt.format(text=state[\"text\"]))\n",
        "  entities=llm.invoke([message]).content.strip().split(\", \")\n",
        "  return {\"entities\": entities}\n",
        "\n",
        "def summarization_node(state: State):\n",
        "  ''' Summarize the text in one short sentence'''\n",
        "  prompt = PromptTemplate(\n",
        "      input_variables=[\"text\"],\n",
        "      template=\"Summarize the following text in one short sentence.\\n\\nText:{text}\\n\\nSummary:\"\n",
        "  )\n",
        "  message = HumanMessage(content=prompt.format(text=state[\"text\"]))\n",
        "  summary = llm.invoke([message]).content.strip()\n",
        "  return {\"summary\": summary}"
      ],
      "metadata": {
        "id": "LNB2Iddl3XjH"
      },
      "execution_count": 6,
      "outputs": []
    },
    {
      "cell_type": "markdown",
      "source": [
        "# **Create Tools and Build Workflow**\n",
        "\n",
        "\n",
        "This cell builds the StateGraph workflow."
      ],
      "metadata": {
        "id": "dZ0J1Db5Jwom"
      }
    },
    {
      "cell_type": "code",
      "source": [
        "workflow = StateGraph(State)\n",
        "\n",
        "# Add nodes to the graph\n",
        "workflow.add_node(\"classification_node\", classification_node)\n",
        "workflow.add_node(\"entity_extraction\", entity_extraction_node)\n",
        "workflow.add_node(\"summarization\", summarization_node)\n",
        "\n",
        "\n",
        "# Add edges to the graph\n",
        "workflow.set_entry_point(\"classification_node\")  # Set the entry point of the graph\n",
        "workflow.add_edge(\"classification_node\", \"entity_extraction\")\n",
        "workflow.add_edge(\"entity_extraction\",\"summarization\")\n",
        "workflow.add_edge(\"summarization\", END)\n",
        "\n",
        "# Compile the graph\n",
        "app = workflow.compile()"
      ],
      "metadata": {
        "id": "U7ehqjBuGMpg"
      },
      "execution_count": 7,
      "outputs": []
    },
    {
      "cell_type": "markdown",
      "source": [
        "# Visualizing the Workflow\n",
        "This cell creates a visual representation of our workflow using Mermaid"
      ],
      "metadata": {
        "id": "-v2Ayt5aM4qM"
      }
    },
    {
      "cell_type": "code",
      "source": [
        "display(Image(app.get_graph().draw_mermaid_png(draw_method=MermaidDrawMethod.API)))"
      ],
      "metadata": {
        "id": "wTX6NM80MjRk",
        "outputId": "b13c56d3-03f3-4885-ec1e-a1adb2b9cee6",
        "colab": {
          "base_uri": "https://localhost:8080/",
          "height": 449
        }
      },
      "execution_count": 8,
      "outputs": [
        {
          "output_type": "display_data",
          "data": {
            "image/png": "[encoded data removed]",
            "text/plain": [
              "<IPython.core.display.Image object>"
            ]
          },
          "metadata": {}
        }
      ]
    },
    {
      "cell_type": "markdown",
      "source": [
        "#Testing the Pipeline\n",
        "This cell runs a sample text through our pipeline and displays the results."
      ],
      "metadata": {
        "id": "qjQ1d7S4NkDp"
      }
    },
    {
      "cell_type": "code",
      "source": [
        "sample_text = \"\"\"\n",
        "H C J D A 38.\n",
        "JUDGMENT SHEET\n",
        "IN THE LAHORE HIGH COURT MULTAN BENCH,\n",
        "MULTAN\n",
        "JUDICIAL DEPARTMENT\n",
        "\n",
        "MUHAMMAD WAHEED KHAN, J.- Through\n",
        "the instant appeal, the appellant has challenged conviction and\n",
        "sentence awarded to him by the learned Addl. Sessions Judge,\n",
        "Dera Gazi Khan vide judgment dated 25.02.2023 in case FIR\n",
        "No.709 dated 04.09.2022 registered u/s 9 (c) of the Control of\n",
        "Narcotic Substances Act, 1997 at Police Station Gaddai, Dera\n",
        "Gazi Khan, whereby on conclusion of trial, he was convicted\n",
        "u/s 9 (c) of the Control of Narcotic Substances Act, 1997 and\n",
        "sentenced to rigorous imprisonment for six years and six\n",
        "months alongwith fine of Rs.30,000/-, in default thereof, to\n",
        "further undergo six months simple imprisonment. Benefit of\n",
        "section 382-B Cr.P.C. was also extended to him.\n",
        "2. Facts of the case are that on 04.09.2022, when\n",
        "complainant, Muhammad Tahir Saleem T/SI alongwith\n",
        "other officials was present at Paigah Chowk, on a tip off,\n",
        "they chased the appellant who was coming on a\n",
        "motorcycle and when a cloth bag hanging with the handle\n",
        "of his motorcycle was opened, three packets of charas (out\n",
        "of which one packet wrapped in yellow coloured tape\n",
        "Cr. Appeal No.206 of 2023\n",
        "Muhammad Adnan v. The State\n",
        "JUDGMENT\n",
        "Date of hearing 26.09.2023\n",
        "Appellant by: Ch. Umar Hayat, Advocate.\n",
        "Complainant/\n",
        "State by:\n",
        "Mr. Muhammad Ali Shahab, Deputy\n",
        "Prosecutor General.\n",
        "2\n",
        "Cr. Appeal No.206 of 2023\n",
        "(Muhammad Adnan v. The State, etc)\n",
        "weighing 1080 grams, second wrapped in a blue coloured\n",
        "tape weighing 1070 grams and the third packet wrapped in\n",
        "blue coloured shopper bag weighing 1020 grams), total\n",
        "weighing 3170 grams, were recovered and an amount of\n",
        "Rs.4350/- was also recovered from him. The complainant\n",
        "prepared three separate sealed parcels of samples and three\n",
        "others of the remaining case property and took the said six\n",
        "parcels alongwith motorcycle and cash into possession,\n",
        "hence, this case.\n",
        "3. After registration of case, police investigated the matter\n",
        "and submitted report u/s 173 Cr.P.C. before the learned trial\n",
        "Court by declaring the appellant as guilty. Learned trial Court\n",
        "after completing codal formalities, framed charge against the\n",
        "appellant, which was denied by him, so, the prosecution\n",
        "evidence was summoned. In order to prove the charge against\n",
        "the appellant, the prosecution produced as many as six\n",
        "witnesses. Allah Bachaya ASI, who chalked out FIR appeared\n",
        "as PW-1, Shehbaz Qalandar 924/HC, Moharrar of Police\n",
        "Station appeared as PW-2, Muhammad Sadiq SI,\n",
        "Investigating Officer of the case appeared as PW-3, Allah\n",
        "Dewaya 930/C witness of recovery appeared as PW-4, Tahir\n",
        "Saleem T/SI complainant of the case appeared as PW-5 and\n",
        "Muhammad Qasim 1148/C, who transmitted the complaint to\n",
        "the Police Station appeared as PW-6. The prosecution after\n",
        "producing certain documents including report of Punjab\n",
        "Forensic Science Agency (Ex-PG) closed its evidence. The\n",
        "appellant was examined u/s 342 Cr.P.C., wherein he denied all\n",
        "the allegations leveled against him. He did not opt to appear u/s\n",
        "340(2) Cr.P.C. as his own witness, however, produced certain\n",
        "documents in his defence.\n",
        "4. In support of the instant appeal, learned counsel for the\n",
        "appellant has submitted that the prosecution story is inherently\n",
        "3\n",
        "Cr. Appeal No.206 of 2023\n",
        "(Muhammad Adnan v. The State, etc)\n",
        "flawed, failed to inspire confidence and the impugned judgment\n",
        "is not only based on surmises and conjectures but material\n",
        "evidence available on record has been mis-read; In alternate,\n",
        "learned counsel for the appellant submits that since the\n",
        "prosecution remained failed to prove the case qua the safe\n",
        "custody of the parcels containing the case property so the same\n",
        "cannot be used against the appellant and the maximum he could\n",
        "be saddled with the responsibility to the extent of sample\n",
        "parcels containing 54/54 grams and 51 grams (total 159 grams)\n",
        "of contraband in the light of guidelines given by the august\n",
        "Supreme Court of Pakistan in case titled as “AMEER ZEB v.\n",
        "THE STATE” (PLD 2012 Supreme Court 380).\n",
        "5. Conversely, learned Deputy Prosecutor General while\n",
        "faithfully supporting the impugned judgment, candidly admitted\n",
        "that the prosecution could not prove the safe custody of the\n",
        "parcels containing the case property, so, the appellant can only\n",
        "be held responsible of quantity of narcotics containing in\n",
        "sample parcels i.e. 159 grams.\n",
        "6. We have heard the arguments of learned counsel for the\n",
        "appellant, learned Law Officer and perused the record with their\n",
        "assistance. On in depth analysis of record, we have straightway\n",
        "noticed that as per testimony of Shahbaz Qalandar 924/HC\n",
        "Moharrar Police Station (PW-2), he handed over the parcels\n",
        "containing the case property to Tahir Saleem SI (PW-5)\n",
        "complainant of the case, for depositing the same in Sadar Mall\n",
        "Khana on 06.09.2022. Regarding this fact, he (PW-2) deposed\n",
        "in the dock in the following manner;-\n",
        "“I sent the case property to Malkhana Saddar through\n",
        "Tahir Saleem SI on 06.09.2022. I.O recorded my statement\n",
        "in this regard. The parcels remained intact as long as in my\n",
        "custody.”\n",
        "But the said Tahir Saleem SI, while appearing before the\n",
        "learned trial Court as PW-5 did not depose a single word\n",
        "4\n",
        "Cr. Appeal No.206 of 2023\n",
        "(Muhammad Adnan v. The State, etc)\n",
        "regarding receiving the parcel(s) containing case property from\n",
        "Moharrar Police Station (PW-2) for depositing the same in\n",
        "Saddar Malkhana. The said portion of testimony of (PW-5) is\n",
        "reproduced as under;-\n",
        "“On 05.09.2022, Shahbaz Qalandar Moharrir handed over\n",
        "to me three sample parcels for onward transmission to the\n",
        "office of PFSA alongwith road certificate 990/2021, which\n",
        "I deposited the aforesaid office on 06.09.2022 intact.”\n",
        "It shows that PW-5 did not depose about receiving of parcels\n",
        "containing case property for depositing the same in the Saddar\n",
        "Malkhana in safe custody.\n",
        "7. A case under the Control of Narcotic Substances Act,\n",
        "1997 contains two components/limbs i.e. firstly, the prosecution\n",
        "is bound to establish the safe custody and safe transmission\n",
        "from the place of recovery of seized drug by the police,\n",
        "including separation of representative parcel(s) of the seized\n",
        "drug and its despatch to the testing laboratory and secondly, the\n",
        "chain of custody of the parcel(s) containing the ‘case property’\n",
        "is also pivotal, and the prosecution is also supposed to prove its\n",
        "safe custody as far as the same remained with the police and\n",
        "then despatched to the trial Court as a ‘case property’ intact,\n",
        "and any break in the chain of custody or lapse in the control of\n",
        "possession of the sample(s) containing case property causes\n",
        "doubt on its safe custody and safe transmission to the Court of\n",
        "law. In case of “AMEER ZEB v. THE STATE” (PLD 2012\n",
        "Supreme Court 380), the top Court has observed that the\n",
        "Control of Narcotic Substances Act, 1997, stipulates\n",
        "disproportionately long and harsh sentences and, therefore, for\n",
        "the purpose of safe administration of criminal justice, some\n",
        "minimum standards of safety are to be laid down so as to strike\n",
        "a balance between the prosecution and the defence and to\n",
        "obviate chances of miscarriage of justice on account of\n",
        "exaggeration by the Investigating Agency. Such minimum\n",
        "5\n",
        "Cr. Appeal No.206 of 2023\n",
        "(Muhammad Adnan v. The State, etc)\n",
        "standards of safety are even otherwise necessary for\n",
        "safeguarding the Fundamental Rights of the citizens regarding\n",
        "life and liberty which cannot be left at the mercy of verbal\n",
        "assertions of police officers, which assertions are not supported\n",
        "by independent evidence provided by a Chemical Examiner. In\n",
        "cases of “The State through Regional Director ANF v. Imam\n",
        "Bakhsh and others” (2018 SCMR 2039), “Ikramullah and\n",
        "others v. The State” (2015 SCMR 1002) and “Amjad Ali v. The\n",
        "State” (2012 SCMR 577), the Apex Court had bound down the\n",
        "prosecution to substantiate the safe transmission of sample(s) of\n",
        "the recovered substance right from its recovery from the\n",
        "accused, keeping it safe with the police and then its onward\n",
        "transmission to the Forensic Laboratory but in case of “ABDUL\n",
        "GHANI and others v. The STATE and others” (2019 SCMR\n",
        "608), the top Court went ahead of this by observing that in a\n",
        "case where the safe custody of the recovered substance or safe\n",
        "transmission of sample(s) of the recovered substance was not\n",
        "proved by the prosecution through independent evidence, it\n",
        "cannot not be concluded that the prosecution had succeeded in\n",
        "establishing its case against the accused beyond reasonable\n",
        "doubt. In the above referred case, the top Court had given its\n",
        "observation in the following manner;-\n",
        "“There is hardly any occasion for discussing the merits of\n",
        "the case against the appellants because the record of the\n",
        "case shows that safe custody of the recovered substance as\n",
        "well as safe transmission of samples of the recovered\n",
        "substance to the office of the Chemical Examiner had not\n",
        "been established by the prosecution in this case. Nisar\n",
        "Ahmad, S.I./SHO complainant (PW1) had stated before the\n",
        "trial Court that he had deposited the recovered substance\n",
        "at the Malkhana of the local Police Station but admittedly\n",
        "the Moharrir of the said Police Station had not been\n",
        "produced before the trial Court to depose about safe\n",
        "custody of the recovered substance.\"\n",
        "Underline provided for emphasis.\n",
        "Meaning thereby that it was incumbent upon the prosecution to\n",
        "prove the safe custody and transmission of both components/\n",
        "6\n",
        "Cr. Appeal No.206 of 2023\n",
        "(Muhammad Adnan v. The State, etc)\n",
        "limbs of case i.e. sample parcel(s) and the case property. In the\n",
        "judgment passed by this Court in case of “ABID ALI v. The\n",
        "STATE” (2022 P.Cr.L.J 1088), the case of the prosecution was\n",
        "disbelieved as the prosecution remained unable to prove the\n",
        "safe custody of the second component i.e. safe custody of\n",
        "parcel(s) containing the case property. In another judgment\n",
        "rendered by this Court in case of “ABDUL GHAFOOR v. The\n",
        "STATE and others” (2021 P.Cr. L J 1624), it had been\n",
        "observed that a portion of 78 grams of recovered narcotic was\n",
        "segregated for chemical analysis and the rest of 1472 grams\n",
        "recovered narcotic was secured separately however, prosecution\n",
        "witnesses could not prove as to who transmitted parcel\n",
        "containing said 1472 grams and no evidence was presented to\n",
        "show how such parcel was retrieved and brought to Court to be\n",
        "exhibited as evidence. The accused was held responsible/guilty\n",
        "to the extent of narcotic containing sample parcel.\n",
        "8. So, in the light of above discussion, we believe that the\n",
        "prosecution remained failed to adduce the evidence qua the safe\n",
        "custody and safe transmission of the sample(s) containing the\n",
        "‘case property’ as observed earlier that Tahir Saleem SI (PW-5)\n",
        "had not deposed in the line of the assertion of Shahbaz\n",
        "Qalandar 924/HC, Moharrar of Police Station (PW-2), wherein\n",
        "he claimed that he handed over the parcels containing the case\n",
        "property to the said Tahir Saleem SI (PW-5), rather he did not\n",
        "utter a single word about handing over the parcels containing\n",
        "‘case property’ to him. Meaning thereby that an important link\n",
        "is missing regarding the safe custody of the ‘case property’ and\n",
        "we have reached to an irresistible conclusion that the\n",
        "prosecution remained failed to prove its case to the extent of\n",
        "parcels containing the ‘case property’. Hence, in all\n",
        "eventualities the narcotic containing the ‘case property’ cannot\n",
        "be used against the appellant. So, he cannot be held guilty of\n",
        "7\n",
        "Cr. Appeal No.206 of 2023\n",
        "(Muhammad Adnan v. The State, etc)\n",
        "the quantity i.e. 3011 grams of charas and as such conviction\n",
        "and sentence awarded to him by the learned trial Court u/s 9 (c)\n",
        "of the Act ibid cannot be allowed to stand, rather he would be\n",
        "convicted and sentenced to the extent of samples consisting of\n",
        "54/54 grams and 51 grams (total 159 grams), which were\n",
        "received in the Punjab Forensic Science Agency (PFSA) and\n",
        "the same were tested as positive through report Ex-PG.\n",
        "Therefore, the appellant is held responsible for having only to\n",
        "the extent of three ‘sample parcels’ weighing 156 grams in his\n",
        "possession. In this view of the matter conviction recorded by\n",
        "the learned trial Court is converted into conviction of the\n",
        "appellant from section 9 (c) to section 9 (b) of the Act ibid and\n",
        "he is sentenced to one year and three months rigorous\n",
        "imprisonment and fine of Rs.9,000/-, in default whereof, to\n",
        "further undergo simple imprisonment for three months and\n",
        "fifteen days while applying the sentencing policy of this Court,\n",
        "laid down in case of “GHULAM MURTAZA and another v.\n",
        "THE STATE” (PLD 2009 Lahore 362). Benefit of section 382-\n",
        "B Cr.P.C. is also extended to the appellant.\n",
        "9. With the above modification in conviction and sentence\n",
        "of the appellant, the instant appeal is dismissed.\n",
        "(SARDAR MUHAMMAD SARFRAZ DOGAR) (MUHAMMAD WAHEED KHAN)\n",
        " JUDGE JUDGE\n",
        "\"\"\"\n",
        "\n",
        "state_input = {\"text\": sample_text}\n",
        "result = app.invoke(state_input)\n",
        "\n",
        "print(\"Classification:\", result[\"classification\"])\n",
        "print(\"\\nEntities:\", result[\"entities\"])\n",
        "print(\"\\nSummary:\", result[\"summary\"])"
      ],
      "metadata": {
        "id": "fF8x4mqtNcF3",
        "outputId": "552dd299-a236-4535-c293-46c28a0813e2",
        "colab": {
          "base_uri": "https://localhost:8080/"
        }
      },
      "execution_count": 9,
      "outputs": [
        {
          "output_type": "stream",
          "name": "stdout",
          "text": [
            "Classification: Criminal Law\n",
            "\n",
            "Entities: ['Muhammad Waheed Khan', 'J.', 'Muhammad Adnan', 'The State', 'Ch. Umar Hayat', 'Mr. Muhammad Ali Shahab', 'Addl. Sessions Judge', 'Dera Gazi Khan', 'Muhammad Tahir Saleem', 'Allah Bachaya ASI', 'Shehbaz Qalandar', 'Muhammad Sadiq SI', 'Allah Dewaya', 'Muhammad Qasim', 'Punjab Forensic Science Agency', 'Ameer Zeb', 'The State (PLD 2012 Supreme Court 380)', 'The State through Regional Director ANF', 'Imam Bakhsh', 'Ikramullah', 'Amjad Ali', 'Abdul Ghani', 'Abid Ali', 'Abdul Ghafoor', 'Ghulam Murtaza', 'Control of Narcotic Substances Act', '1997', 'Cr. Appeal No.206 of 2023', 'FIR No.709', 'Section 9 (c)', 'Section 9 (b)', 'Section 382-B Cr.P.C.', 'Section 173 Cr.P.C.', 'Section 342 Cr.P.C.', 'Section 340(2) Cr.P.C.', ' Rigorous imprisonment', 'Simple imprisonment', 'Fine', ' Conviction', 'Appeal', 'Judgment', ' Trial', ' Evidence', 'Prosecution', 'Defence', 'Safe custody', 'Chain of custody', 'Chemical Examiner', ' Miscarriage of justice', ' Sample parcels', 'Case property', ' Charas', 'Lahore High Court Multan Bench', 'Police Station Gaddai', 'Dera Gazi Khan', 'Paigah Chowk', 'Saddar Malkhana', ' 25.02.2023', '04.09.2022', '06.09.2022', '26.09.2023', 'Rs.30,000/-', 'Rs.4350/-', '1080 grams', '1070 grams', '1020 grams', '3170 grams', '54/54 grams', '51 grams', '159 grams', 'Rs.9,000/-']\n",
            "\n",
            "Summary: The Lahore High Court reduced a man's six-year drug trafficking sentence to one year and three months due to insufficient evidence proving the safekeeping of the confiscated narcotics.\n"
          ]
        }
      ]
    },
    {
      "cell_type": "markdown",
      "source": [
        "#Conclusion\n",
        "In this tutorial, we've:\n",
        "\n",
        "*   Explored LangGraph concepts\n",
        "*   Built a text processing pipeline\n",
        "*   Demonstrated LangGraph's use in data processing workflows\n",
        "*   Visualized the workflow using Mermaid\n",
        "\n",
        "This example showcases how LangGraph can be used for tasks beyond conversational agents, providing a flexible framework for creating complex, graph-based workflows."
      ],
      "metadata": {
        "id": "D8p1jlJdWyKI"
      }
    },
    {
      "cell_type": "code",
      "source": [],
      "metadata": {
        "id": "l-gcp-FATlWq"
      },
      "execution_count": 9,
      "outputs": []
    }
  ]
}